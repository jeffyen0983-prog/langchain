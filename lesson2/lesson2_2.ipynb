{
 "cells": [
  {
   "cell_type": "code",
   "execution_count": 1,
   "id": "d26dd634",
   "metadata": {},
   "outputs": [
    {
     "name": "stdout",
     "output_type": "stream",
     "text": [
      "robert\n"
     ]
    }
   ],
   "source": [
    "is_nice:bool = False\n",
    "print(\"robert\")\n",
    "#單項選擇\n",
    "if is_nice:\n",
    "    print(\"他人不錯\")"
   ]
  },
  {
   "cell_type": "code",
   "execution_count": 2,
   "id": "1176986e",
   "metadata": {},
   "outputs": [
    {
     "name": "stdout",
     "output_type": "stream",
     "text": [
      "robert\n",
      "他人不錯\n"
     ]
    }
   ],
   "source": [
    "is_nice:bool = True\n",
    "print(\"robert\")\n",
    "#雙向選擇\n",
    "if is_nice:\n",
    "    print(\"他人不錯\")\n",
    "else:\n",
    "    print(\"它一般般\")"
   ]
  },
  {
   "cell_type": "code",
   "execution_count": 3,
   "id": "ba3cbd5b",
   "metadata": {},
   "outputs": [
    {
     "name": "stdout",
     "output_type": "stream",
     "text": [
      "及格\n"
     ]
    }
   ],
   "source": [
    "scores = 75\n",
    "if scores >= 60:\n",
    "    print(\"及格\")\n",
    "else:\n",
    "    print(\"不及格\")"
   ]
  },
  {
   "cell_type": "code",
   "execution_count": 4,
   "id": "320170fc",
   "metadata": {},
   "outputs": [
    {
     "name": "stdout",
     "output_type": "stream",
     "text": [
      "良好\n"
     ]
    }
   ],
   "source": [
    "#成績判斷\n",
    "score = 85\n",
    "if score >= 90:\n",
    "    print(\"優秀\")\n",
    "elif score >= 80:\n",
    "    print(\"良好\")\n",
    "elif score >= 70:\n",
    "    print(\"中等\")\n",
    "else:\n",
    "    print(\"不及格\")"
   ]
  }
 ],
 "metadata": {
  "kernelspec": {
   "display_name": "langchain",
   "language": "python",
   "name": "python3"
  },
  "language_info": {
   "codemirror_mode": {
    "name": "ipython",
    "version": 3
   },
   "file_extension": ".py",
   "mimetype": "text/x-python",
   "name": "python",
   "nbconvert_exporter": "python",
   "pygments_lexer": "ipython3",
   "version": "3.11.13"
  }
 },
 "nbformat": 4,
 "nbformat_minor": 5
}
