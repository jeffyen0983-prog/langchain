{
 "cells": [
  {
   "cell_type": "markdown",
   "id": "39577305",
   "metadata": {},
   "source": [
    "###python數學運算"
   ]
  },
  {
   "cell_type": "code",
   "execution_count": 1,
   "id": "1507b5e8",
   "metadata": {},
   "outputs": [
    {
     "name": "stdout",
     "output_type": "stream",
     "text": [
      "小明\n",
      "<class 'str'>\n",
      "================\n",
      "18\n",
      "<class 'int'>\n",
      "=================\n",
      "175.5\n",
      "<class 'float'>\n",
      "===============\n",
      "True\n",
      "<class 'bool'>\n"
     ]
    }
   ],
   "source": [
    "name = \"小明\"\n",
    "print(name)\n",
    "print(type(name)) #呼叫function\n",
    "print('================')\n",
    "\n",
    "\n",
    "age = 18\n",
    "print(age)\n",
    "print(type(age))\n",
    "print('=================')\n",
    "\n",
    "height = 175.5\n",
    "print(height)\n",
    "print(type(height))\n",
    "print('===============')\n",
    "\n",
    "\n",
    "is_student = True\n",
    "print(is_student)\n",
    "print(type(is_student))"
   ]
  },
  {
   "cell_type": "code",
   "execution_count": 2,
   "id": "75aa8788",
   "metadata": {},
   "outputs": [
    {
     "name": "stdout",
     "output_type": "stream",
     "text": [
      "name變數儲存的值是小明,資料類型是:<class 'str'>.\n",
      "age變數儲存的值是18,資料類型是:<class 'int'>.\n"
     ]
    }
   ],
   "source": [
    "print(\"name變數儲存的值是\",name,\",資料類型是:\",type(name),sep='',end='.\\n')\n",
    "print(\"age變數儲存的值是\",age,\",資料類型是:\",type(age),sep='',end='.\\n')"
   ]
  }
 ],
 "metadata": {
  "kernelspec": {
   "display_name": "langchain",
   "language": "python",
   "name": "python3"
  },
  "language_info": {
   "codemirror_mode": {
    "name": "ipython",
    "version": 3
   },
   "file_extension": ".py",
   "mimetype": "text/x-python",
   "name": "python",
   "nbconvert_exporter": "python",
   "pygments_lexer": "ipython3",
   "version": "3.11.13"
  }
 },
 "nbformat": 4,
 "nbformat_minor": 5
}
